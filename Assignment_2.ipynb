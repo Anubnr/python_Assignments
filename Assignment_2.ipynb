{
 "cells": [
  {
   "cell_type": "code",
   "execution_count": null,
   "id": "87c4b41c",
   "metadata": {},
   "outputs": [],
   "source": [
    "\n",
    "\n",
    "\n",
    "\n",
    "\n",
    "\n",
    "\n"
   ]
  },
  {
   "cell_type": "raw",
   "id": "7bf483ea",
   "metadata": {},
   "source": [
    "1.What are the two values of the Boolean data type? How do you write them?\n",
    "\n",
    "    The two values of Boolen data type are true and false.\n",
    "    We should write them as:\n",
    "    true --- True\n",
    "    false --- False"
   ]
  },
  {
   "cell_type": "code",
   "execution_count": null,
   "id": "0ec2c94b",
   "metadata": {},
   "outputs": [],
   "source": [
    "2. What are the three different types of Boolean operators?\n",
    "    AND, OR and NOT are the three different types of Boolean operators."
   ]
  },
  {
   "cell_type": "raw",
   "id": "ea4f4bb6",
   "metadata": {},
   "source": [
    "3. Make a list of each Boolean operator's truth tables (i.e. every possible combination of Boolean values for the operator and what it evaluate ).\n",
    "\n",
    "    Truth table for AND operator:\n",
    "    \n",
    "      A          B          result\n",
    "    True       True          True\n",
    "    True       False        False\n",
    "    False      True         False\n",
    "    False      False         True\n",
    "    \n",
    "    \n",
    "    Truth table for OR operator:\n",
    "     \n",
    "      A          B          result\n",
    "    True       True          True\n",
    "    True       False         True\n",
    "    False      True          True\n",
    "    False      False         False\n",
    "    \n",
    "    \n",
    "    Truth table for NOT operator:\n",
    "    \n",
    "    A        result\n",
    "   True      False\n",
    "   False     True\n",
    "    \n",
    "    "
   ]
  },
  {
   "cell_type": "code",
   "execution_count": null,
   "id": "edbb9f47",
   "metadata": {},
   "outputs": [],
   "source": [
    "4. What are the values of the following expressions?\n",
    "\n",
    "    (5>4) and (3==5)   -----   False\n",
    "    not(5>4)           -----   False\n",
    "    (5>4) or (3==5)    -----   True\n",
    "    not((5>4) or (3==5))    -----   False\n",
    "    (True and True) and (True == False) -----  False\n",
    "    (not False) or (not True)  ----- True"
   ]
  },
  {
   "cell_type": "code",
   "execution_count": null,
   "id": "c601a960",
   "metadata": {},
   "outputs": [],
   "source": [
    "5. What are the six comparison operators?\n",
    "\n",
    "    The six comparison operators are:\n",
    "        <   -----   less than\n",
    "        >   -----   greater than\n",
    "        <=  -----   less than or equal to\n",
    "        >=  -----   greater than or equalto\n",
    "        ==  -----   equal to\n",
    "        !=  -----   not equl to"
   ]
  },
  {
   "cell_type": "code",
   "execution_count": null,
   "id": "fee0301c",
   "metadata": {},
   "outputs": [],
   "source": [
    "6. How do you tell the difference between the equal to and assignment operators?Describe a condition and when you would use one.\n",
    "\n",
    "    The assignment operator(=) is used to assign a value to a variable.\n",
    "    The equal to operator(==) is used to compare the two values. \n",
    "    \n",
    "    example:\n",
    "    a = 10 is when we are assigning the value 10 to the variable a.\n",
    "    a == b is when we want to compare b with the value of a."
   ]
  },
  {
   "cell_type": "code",
   "execution_count": null,
   "id": "f4f37347",
   "metadata": {},
   "outputs": [],
   "source": [
    "7. Identify the three blocks in this code:\n",
    "spam = 0\n",
    "if spam == 10:             #block one\n",
    "    print(\"eggs\")\n",
    "    \n",
    "    if spam >5 :           # block two\n",
    "         print(\"bacon\")\n",
    "    else :\n",
    "        print(\"ham\")        # block three\n",
    "        \n",
    "    print(\"spam\") \n",
    "    \n",
    "print(\"spam\")\n",
    "    "
   ]
  },
  {
   "cell_type": "code",
   "execution_count": null,
   "id": "520724ef",
   "metadata": {},
   "outputs": [],
   "source": [
    "8. Write code that prints Hello if 1 is stored in spam, prints Howdy if 2 is stored in spam, and prints Greetings! if anything else is stored in spam.\n",
    "spam = 0\n",
    "if spam == 1:\n",
    "    print(\"Helo\")\n",
    "elif spam == 2 :\n",
    "    print(\"Howdy\")\n",
    "else :\n",
    "    print(\"Greatings!\")"
   ]
  },
  {
   "cell_type": "code",
   "execution_count": null,
   "id": "0fdaa30b",
   "metadata": {},
   "outputs": [],
   "source": [
    "\n",
    "\n",
    "\n"
   ]
  },
  {
   "cell_type": "code",
   "execution_count": null,
   "id": "1ba30160",
   "metadata": {},
   "outputs": [],
   "source": [
    "9.If your programme is stuck in an endless loop, what keys you’ll press?\n",
    "\n",
    "    Using ctrl+c key we can escape from an endless loop "
   ]
  },
  {
   "cell_type": "code",
   "execution_count": null,
   "id": "d44fa382",
   "metadata": {},
   "outputs": [],
   "source": [
    "10. How can you tell the difference between break and continue?\n",
    "\n",
    "    When break keyword is used, it exits from the loop.\n",
    "    When continue keyword is used, it skips the current iteration of the loop then it continues with loop."
   ]
  },
  {
   "cell_type": "code",
   "execution_count": null,
   "id": "09419295",
   "metadata": {},
   "outputs": [],
   "source": [
    "11. In a for loop, what is the difference between range(10), range(0, 10), and range(0, 10, 1)?\n",
    "\n",
    "    a range function can take one, two or three arguments.\n",
    "    Syntax of range functin is\n",
    "        range(start,stop,step)\n",
    "    in range(stop), by default start = 0 and step = 1\n",
    "    \n",
    "    So in the above, range(0,10,1), start=0, stop=10, step=1\n",
    "    in range(0,10), start=0,stop=10 and step=1 by default\n",
    "    in range(10), stop=10 and by default start=0,step=1"
   ]
  },
  {
   "cell_type": "code",
   "execution_count": null,
   "id": "b8ba9627",
   "metadata": {},
   "outputs": [],
   "source": [
    "12. Write a short program that prints the numbers 1 to 10 using a for loop. Then write an equivalent\n",
    "program that prints the numbers 1 to 10 using a while loop.\n",
    "\n",
    "    program to print 1 to 10 numbers using for loop:\n",
    "        \n",
    "        for i in range(1,11,1):\n",
    "            print(i)\n",
    "            \n",
    "    program to print 1 to 10 numbers using while loop:\n",
    "        \n",
    "        i=1\n",
    "        while(i<=10):\n",
    "            print(i)\n",
    "            i=i+1"
   ]
  },
  {
   "cell_type": "code",
   "execution_count": null,
   "id": "b56cbba7",
   "metadata": {},
   "outputs": [],
   "source": [
    "13. If you had a function named bacon() inside a module named spam, how would you call it after\n",
    "importing spam?\n",
    "\n",
    "spam.bacon()"
   ]
  }
 ],
 "metadata": {
  "kernelspec": {
   "display_name": "Python 3 (ipykernel)",
   "language": "python",
   "name": "python3"
  },
  "language_info": {
   "codemirror_mode": {
    "name": "ipython",
    "version": 3
   },
   "file_extension": ".py",
   "mimetype": "text/x-python",
   "name": "python",
   "nbconvert_exporter": "python",
   "pygments_lexer": "ipython3",
   "version": "3.9.7"
  }
 },
 "nbformat": 4,
 "nbformat_minor": 5
}
