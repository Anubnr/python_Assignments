{
 "cells": [
  {
   "cell_type": "raw",
   "id": "0d011175",
   "metadata": {},
   "source": [
    "1. What does an empty dictionary's code look like?\n",
    "\n",
    "    dict = {}"
   ]
  },
  {
   "cell_type": "raw",
   "id": "b0a86074",
   "metadata": {},
   "source": [
    "2. What is the value of a dictionary value with the key 'foo' and the value 42?\n",
    "\n",
    "    dictionary = {\"foo\":42}\n",
    "    dictionary[\"foo\"]"
   ]
  },
  {
   "cell_type": "raw",
   "id": "53721464",
   "metadata": {},
   "source": [
    "3. What is the most significant distinction between a dictionary and a list?\n",
    "\n",
    "    * A dictionary doesn't allow any duplicate values, but a list allows duplicates.\n",
    "    * Items in dictionary are accessed via keys not via their positions."
   ]
  },
  {
   "cell_type": "raw",
   "id": "f5615cc9",
   "metadata": {},
   "source": [
    "4. What happens if you try to access spam['foo'] if spam is {'bar': 100}?\n",
    "\n",
    "    It shows KeyError"
   ]
  },
  {
   "cell_type": "raw",
   "id": "46e486b4",
   "metadata": {},
   "source": [
    "5. If a dictionary is stored in spam, what is the difference between the expressions 'cat' in spam and 'cat' in spam.keys()?\n",
    "\n",
    "    'cat' in spam can be a value or a key but 'cat' in spam.keys() means 'cat' is a key    "
   ]
  },
  {
   "cell_type": "raw",
   "id": "9c2bcb0b",
   "metadata": {},
   "source": [
    "6. If a dictionary is stored in spam, what is the difference between the expressions 'cat' in spam and 'cat' in spam.values()?\n",
    "\n",
    "    'cat' in spam can be a value or a key, but 'cat' in spam.values() is a value of a key "
   ]
  },
  {
   "cell_type": "raw",
   "id": "68332e89",
   "metadata": {},
   "source": [
    "7. What is a shortcut for the following code?\n",
    "if 'color' not in spam:\n",
    "    spam['color'] = 'black'\n",
    "\n",
    "        spam['color'] = 'black'\n",
    "        \n",
    "        if there's no such key as 'color' in the spam it adds it as a new item to the spam. If 'color' already exists it updates the value of the color, so we need to check whether the key exists are not before adding it to the dictionary. "
   ]
  },
  {
   "cell_type": "raw",
   "id": "b16b6120",
   "metadata": {},
   "source": [
    "8. How do you \"pretty print\" dictionary values using which module and function?\n",
    "\n",
    "    we import pprint from pprint to pretty print dictionary values"
   ]
  },
  {
   "cell_type": "code",
   "execution_count": null,
   "id": "aba75eba",
   "metadata": {},
   "outputs": [],
   "source": []
  }
 ],
 "metadata": {
  "kernelspec": {
   "display_name": "Python 3 (ipykernel)",
   "language": "python",
   "name": "python3"
  },
  "language_info": {
   "codemirror_mode": {
    "name": "ipython",
    "version": 3
   },
   "file_extension": ".py",
   "mimetype": "text/x-python",
   "name": "python",
   "nbconvert_exporter": "python",
   "pygments_lexer": "ipython3",
   "version": "3.9.12"
  }
 },
 "nbformat": 4,
 "nbformat_minor": 5
}
