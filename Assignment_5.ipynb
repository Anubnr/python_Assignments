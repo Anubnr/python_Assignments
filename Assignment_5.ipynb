{
 "cells": [
  {
   "cell_type": "code",
   "execution_count": null,
   "id": "e6b36826",
   "metadata": {},
   "outputs": [],
   "source": [
    "1. What does an empty dictionary's code look like?\n",
    "\n",
    "    dict = {}"
   ]
  },
  {
   "cell_type": "code",
   "execution_count": null,
   "id": "8c14d60e",
   "metadata": {},
   "outputs": [],
   "source": [
    "2. What is the value of a dictionary value with the key 'foo' and the value 42?\n",
    "\n",
    "    dictionary = {\"foo\":42}\n",
    "    dictionary[\"foo\"]"
   ]
  },
  {
   "cell_type": "code",
   "execution_count": null,
   "id": "4147e362",
   "metadata": {},
   "outputs": [],
   "source": [
    "3. What is the most significant distinction between a dictionary and a list?\n",
    "\n",
    "    * A dictionary doesn't allow any duplicate values, but a list allows duplicates.\n",
    "    * Items in dictionary are accessed via keys not via their positions."
   ]
  },
  {
   "cell_type": "code",
   "execution_count": null,
   "id": "3d4ebffc",
   "metadata": {},
   "outputs": [],
   "source": [
    "4. What happens if you try to access spam['foo'] if spam is {'bar': 100}?\n",
    "\n",
    "    It shows KeyError"
   ]
  },
  {
   "cell_type": "code",
   "execution_count": null,
   "id": "d18737eb",
   "metadata": {},
   "outputs": [],
   "source": [
    "5. If a dictionary is stored in spam, what is the difference between the expressions 'cat' in spam and 'cat' in spam.keys()?\n",
    "\n",
    "    'cat' in spam can be a value or a key but 'cat' in spam.keys() means 'cat' is a key    "
   ]
  },
  {
   "cell_type": "code",
   "execution_count": null,
   "id": "51d899e8",
   "metadata": {},
   "outputs": [],
   "source": [
    "6. If a dictionary is stored in spam, what is the difference between the expressions 'cat' in spam and 'cat' in spam.values()?\n",
    "\n",
    "    'cat' in spam can be a value or a key, but 'cat' in spam.values() is a value of a key "
   ]
  },
  {
   "cell_type": "code",
   "execution_count": null,
   "id": "fac86aae",
   "metadata": {},
   "outputs": [],
   "source": [
    "7. What is a shortcut for the following code?\n",
    "if 'color' not in spam:\n",
    "    spam['color'] = 'black'\n",
    "\n",
    "        spam['color'] = 'black'\n",
    "        \n",
    "        if there's no such key as 'color' in the spam it adds it as a new item to the spam. If 'color' already exists it updates the value of the color, so we need to check whether the key exists are not before adding it to the dictionary. "
   ]
  },
  {
   "cell_type": "code",
   "execution_count": null,
   "id": "6072f854",
   "metadata": {},
   "outputs": [],
   "source": [
    "8. How do you \"pretty print\" dictionary values using which module and function?\n",
    "\n",
    "    we import pprint from pprint to pretty print dictionary values"
   ]
  },
  {
   "cell_type": "code",
   "execution_count": null,
   "id": "aba75eba",
   "metadata": {},
   "outputs": [],
   "source": []
  }
 ],
 "metadata": {
  "kernelspec": {
   "display_name": "Python 3 (ipykernel)",
   "language": "python",
   "name": "python3"
  },
  "language_info": {
   "codemirror_mode": {
    "name": "ipython",
    "version": 3
   },
   "file_extension": ".py",
   "mimetype": "text/x-python",
   "name": "python",
   "nbconvert_exporter": "python",
   "pygments_lexer": "ipython3",
   "version": "3.9.12"
  }
 },
 "nbformat": 4,
 "nbformat_minor": 5
}
