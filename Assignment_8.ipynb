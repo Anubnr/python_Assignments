{
 "cells": [
  {
   "cell_type": "code",
   "execution_count": null,
   "id": "cd64d471",
   "metadata": {},
   "outputs": [],
   "source": []
  },
  {
   "cell_type": "code",
   "execution_count": null,
   "id": "0b0f648c",
   "metadata": {},
   "outputs": [],
   "source": [
    "1. Is the Python Standard Library included with PyInputPlus?\n",
    "\n",
    "PyInputPlus is not a pat of the Python Stansard Library"
   ]
  },
  {
   "cell_type": "code",
   "execution_count": null,
   "id": "5fcb635e",
   "metadata": {},
   "outputs": [],
   "source": [
    "2. Why is PyInputPlus commonly imported with import pyinputplus as pypi?\n",
    "\n",
    "PyInputPlus commonly imported with import pyinputplus as pypi so we can enter a shorter name when calling a module's function."
   ]
  },
  {
   "cell_type": "code",
   "execution_count": null,
   "id": "7ad60fbf",
   "metadata": {},
   "outputs": [],
   "source": [
    "3. How do you distinguish between inputInt() and inputFloat()?\n",
    "\n",
    "The inputInt() accepts an integer value. The inputFloat() accepts a floating point numeric value."
   ]
  },
  {
   "cell_type": "code",
   "execution_count": null,
   "id": "8228d8e5",
   "metadata": {},
   "outputs": [],
   "source": [
    "4. Using PyInputPlus, how do you ensure that the user enters a whole number between 0 and 99?\n",
    "\n",
    "We can ensure that the user enters  whole number between 0 and 99 by passing min=0 and max=99 parameters in inputInt()."
   ]
  },
  {
   "cell_type": "code",
   "execution_count": null,
   "id": "0f89e19b",
   "metadata": {},
   "outputs": [],
   "source": [
    "5. What is transferred to the keyword arguments allowRegexes and blockRegexes?\n",
    "\n",
    "Keyword arguments take a list of regular expression strings to determine what the PyInputPlus function will accept or regect as valid input."
   ]
  },
  {
   "cell_type": "code",
   "execution_count": null,
   "id": "40866a35",
   "metadata": {},
   "outputs": [],
   "source": [
    "6. If a blank input is entered three times, what does inputStr(limit=3) do?\n",
    "\n",
    "It will throw RetryLimitException exception"
   ]
  },
  {
   "cell_type": "code",
   "execution_count": null,
   "id": "aa4fac8e",
   "metadata": {},
   "outputs": [],
   "source": [
    "7. If blank input is entered three times, what does inputStr(limit=3, default='hello') do?\n",
    "\n",
    "The function returns the value 'hello'"
   ]
  }
 ],
 "metadata": {
  "kernelspec": {
   "display_name": "Python 3 (ipykernel)",
   "language": "python",
   "name": "python3"
  },
  "language_info": {
   "codemirror_mode": {
    "name": "ipython",
    "version": 3
   },
   "file_extension": ".py",
   "mimetype": "text/x-python",
   "name": "python",
   "nbconvert_exporter": "python",
   "pygments_lexer": "ipython3",
   "version": "3.9.12"
  }
 },
 "nbformat": 4,
 "nbformat_minor": 5
}
