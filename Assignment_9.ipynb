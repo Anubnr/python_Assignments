{
 "cells": [
  {
   "cell_type": "code",
   "execution_count": null,
   "id": "91ae2a99",
   "metadata": {},
   "outputs": [],
   "source": [
    "#1. To what does a relative path refer?\n",
    "\n",
    "    A relative path refers to location that is relative to a current directory. "
   ]
  },
  {
   "cell_type": "code",
   "execution_count": null,
   "id": "1129c913",
   "metadata": {},
   "outputs": [],
   "source": [
    "#2. What does an absolute path start with your operating system?\n",
    "\n",
    "    An absolute path is a complete path to a file or directory from the root directory"
   ]
  },
  {
   "cell_type": "code",
   "execution_count": null,
   "id": "c62013ff",
   "metadata": {},
   "outputs": [],
   "source": [
    "#3. What do the functions os.getcwd() and os.chdir() do?\n",
    "\n",
    "os.getcwd() prints the current working directory\n",
    "os.chdir() changes the current working directory to a specific path"
   ]
  },
  {
   "cell_type": "code",
   "execution_count": null,
   "id": "018fca67",
   "metadata": {},
   "outputs": [],
   "source": [
    "#4. What are the . and .. folders?\n",
    " . is a current working directory while .. signifies a parent directory"
   ]
  },
  {
   "cell_type": "code",
   "execution_count": null,
   "id": "63708fb8",
   "metadata": {},
   "outputs": [],
   "source": [
    "#5. In C:\\bacon\\eggs\\spam.txt, which part is the dir name, and which part is the base name?\n",
    "\n",
    "C:\\bacon\\eggs\\spam is a directory name\n",
    ".txt is a base name"
   ]
  },
  {
   "cell_type": "code",
   "execution_count": null,
   "id": "f1ddeafd",
   "metadata": {},
   "outputs": [],
   "source": [
    "#6. What are the three “mode” arguments that can be passed to the open() function?\n",
    "read-mode(\"r\"), write-mode(\"w\") and update-mode(\"u\")"
   ]
  },
  {
   "cell_type": "code",
   "execution_count": null,
   "id": "26f80533",
   "metadata": {},
   "outputs": [],
   "source": [
    "#7. What happens if an existing file is opened in write mode?\n",
    "When an existing file is opened in the 'w' mode, its previous contents are deleted and the file pointer is positioned at the beginning, allowing new data to be written from the start."
   ]
  },
  {
   "cell_type": "code",
   "execution_count": null,
   "id": "eed2e701",
   "metadata": {},
   "outputs": [],
   "source": [
    "#8. How do you tell the difference between read() and readlines()?\n",
    "read() will read the whole file at once and then print out the first characters \n",
    "readline() that will read and print out only the first characters "
   ]
  },
  {
   "cell_type": "code",
   "execution_count": null,
   "id": "80146cf3",
   "metadata": {},
   "outputs": [],
   "source": [
    "#9. What data structure does a shelf value resemble?\n",
    "the data structure that a shelf most resembles is an array or stack."
   ]
  }
 ],
 "metadata": {
  "kernelspec": {
   "display_name": "Python 3 (ipykernel)",
   "language": "python",
   "name": "python3"
  },
  "language_info": {
   "codemirror_mode": {
    "name": "ipython",
    "version": 3
   },
   "file_extension": ".py",
   "mimetype": "text/x-python",
   "name": "python",
   "nbconvert_exporter": "python",
   "pygments_lexer": "ipython3",
   "version": "3.9.12"
  }
 },
 "nbformat": 4,
 "nbformat_minor": 5
}
