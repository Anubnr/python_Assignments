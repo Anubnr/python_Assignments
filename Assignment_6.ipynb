{
 "cells": [
  {
   "cell_type": "code",
   "execution_count": null,
   "id": "bcefb445",
   "metadata": {},
   "outputs": [],
   "source": [
    "1. What are escape characters, and how do you use them?\n",
    "\n",
    "    An escape character is a blackslash \"\\\" followed by the character you want to insert. To insert the character that are illegal in a string, use escape character."
   ]
  },
  {
   "cell_type": "code",
   "execution_count": null,
   "id": "25e1f5ad",
   "metadata": {},
   "outputs": [],
   "source": [
    "2. What do the escape characters n and t stand for?\n",
    "\n",
    "    The escape character n results the new tab.\n",
    "    The escape character t causes the output to skip over to the next horizontal tab."
   ]
  },
  {
   "cell_type": "code",
   "execution_count": null,
   "id": "a8cd6ef8",
   "metadata": {},
   "outputs": [],
   "source": [
    "3. What is the way to include backslash characters in a string?\n",
    "\n",
    "    Using \\\\ we can insert backslash character in a string.\n",
    "    \n",
    "    ex: \n",
    "        text = \"Insert a backslash \\\\ like this\"\n",
    "        print(text)"
   ]
  },
  {
   "cell_type": "code",
   "execution_count": null,
   "id": "fdc451eb",
   "metadata": {},
   "outputs": [],
   "source": [
    "4. The string \"Howl's Moving Castle\" is a correct value. Why isn't the single quote character in the word Howl's not escaped a problem?\n",
    "\n",
    "    When a String is in double quote characters(\"\") and we use a single quote character inside the string it won't give an error. Same when a string is in single quote characters and we use double quote characters inside a string it won't give error. Python recognises them as two\n",
    "\n",
    "    "
   ]
  },
  {
   "cell_type": "code",
   "execution_count": null,
   "id": "0e07b690",
   "metadata": {},
   "outputs": [],
   "source": [
    "6. What are the values of the given expressions?\n",
    "'Hello, world!'[1]\n",
    "'Hello, world!''[0:5]\n",
    "'Hello, world!'[:5]\n",
    "'Hello, world!'[3:]\n",
    "\n",
    "'e'\n",
    "'Hello'\n",
    "'Hello'\n",
    "'lo, world!'"
   ]
  },
  {
   "cell_type": "code",
   "execution_count": null,
   "id": "f613c1ee",
   "metadata": {},
   "outputs": [],
   "source": [
    "7. What are the values of the following expressions?\n",
    "'Hello'.upper()\n",
    "'Hello'.upper().isupper()\n",
    "'Hello'.upper().lower()\n",
    "\n",
    "'HELLO'\n",
    "True\n",
    "'hello'"
   ]
  },
  {
   "cell_type": "code",
   "execution_count": null,
   "id": "85d588c7",
   "metadata": {},
   "outputs": [],
   "source": [
    "8. What are the values of the following expressions?\n",
    "'Remember, remember, the fifth of July.'.split()\n",
    "'-'.join('There can only one.'.split())\n",
    "\n",
    "'There-can-only-one.'"
   ]
  },
  {
   "cell_type": "code",
   "execution_count": null,
   "id": "b44ceb15",
   "metadata": {},
   "outputs": [],
   "source": [
    "9. What are the methods for right-justifying, left-justifying, and centering a string?\n",
    "\n",
    "    the method used for right-justifying - str.ljust(s, width, fillchar)\n",
    "    the method used for left-justifying - str.rjust(s, width, fillchar)\n",
    "    the method used for centering a string - str.center(s, width, fillchar)"
   ]
  },
  {
   "cell_type": "code",
   "execution_count": null,
   "id": "806bfd95",
   "metadata": {},
   "outputs": [],
   "source": [
    "10. What is the best way to remove whitespace characters from the start or end?\n",
    "\n",
    "    Use strip() method to remove the whitespace characters from a string.\n",
    "    rstrip() method id used to remove end side whitespace characters from a string.\n",
    "    lstrip() method id used to remove starting side whitespace characters from a string.\n"
   ]
  }
 ],
 "metadata": {
  "kernelspec": {
   "display_name": "Python 3 (ipykernel)",
   "language": "python",
   "name": "python3"
  },
  "language_info": {
   "codemirror_mode": {
    "name": "ipython",
    "version": 3
   },
   "file_extension": ".py",
   "mimetype": "text/x-python",
   "name": "python",
   "nbconvert_exporter": "python",
   "pygments_lexer": "ipython3",
   "version": "3.9.12"
  }
 },
 "nbformat": 4,
 "nbformat_minor": 5
}
