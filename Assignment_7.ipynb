{
 "cells": [
  {
   "cell_type": "code",
   "execution_count": null,
   "id": "0dac293e",
   "metadata": {},
   "outputs": [],
   "source": [
    "\n",
    "\n",
    "\n",
    "\n",
    "\n",
    "\n",
    "\n"
   ]
  },
  {
   "cell_type": "code",
   "execution_count": null,
   "id": "9337c4f2",
   "metadata": {},
   "outputs": [],
   "source": [
    "1. What is the name of the feature responsible for generating Regex objects?\n",
    "\n",
    "Python has a module named re that is used for regukar expression in python.\n",
    "re.compile() generates the Regex objects"
   ]
  },
  {
   "cell_type": "code",
   "execution_count": null,
   "id": "1a769f33",
   "metadata": {},
   "outputs": [],
   "source": [
    "2. Why do raw strings often appear in Regex objects?\n",
    "\n",
    "The raw string is slightly differant from regular string, it won't interpret the \\ as aspecial character."
   ]
  },
  {
   "cell_type": "code",
   "execution_count": null,
   "id": "66a48562",
   "metadata": {},
   "outputs": [],
   "source": [
    "3. What is the return value of the search() method?\n",
    "\n",
    "The search() method returns the first match or None"
   ]
  },
  {
   "cell_type": "code",
   "execution_count": null,
   "id": "c034caf8",
   "metadata": {},
   "outputs": [],
   "source": [
    "4. From a Match item, how do you get the actual strings that match the pattern?\n",
    "\n",
    "By using group() method we can get the actual strings that match the pattern.\n",
    "Whereas span() gives the start and end index of the match and string() gives the whole string. "
   ]
  },
  {
   "cell_type": "code",
   "execution_count": null,
   "id": "2c46335a",
   "metadata": {},
   "outputs": [],
   "source": [
    "5. In the regex which created from the r'(\\d\\d\\d)-(\\d\\d\\d-\\d\\d\\d\\d)'', what does group zero cover?\n",
    "Group 2? Group 1?\n",
    "\n",
    "Group 0 covers the entire match, Group 2 covers the first paratheses, and Group 2 covers the second set of paratheses."
   ]
  },
  {
   "cell_type": "code",
   "execution_count": null,
   "id": "fd467cbe",
   "metadata": {},
   "outputs": [],
   "source": [
    "6. In standard expression syntax, parentheses and intervals have distinct meanings. How can you tell\n",
    "a regex that you want it to fit real parentheses and periods?\n",
    "\n",
    "Paratheses are used for grouping in regular expressions. Period and Paratheses can be escaped using blackslash:\\.,\\(,and \\)"
   ]
  },
  {
   "cell_type": "code",
   "execution_count": null,
   "id": "ca4fef3e",
   "metadata": {},
   "outputs": [],
   "source": [
    "7. The findall() method returns a string list or a list of string tuples. What causes it to return one of\n",
    "the two options?\n",
    "\n",
    "The findall() method returns the list of strings.The list contains the matches in the order they are found."
   ]
  },
  {
   "cell_type": "code",
   "execution_count": null,
   "id": "a8737a26",
   "metadata": {},
   "outputs": [],
   "source": [
    "8. In standard expressions, what does the | character mean?\n",
    "\n",
    "| - OR symbol acts as an OR operator meaning it checks whether the pattern before or after the symbol is present in the string or not."
   ]
  },
  {
   "cell_type": "code",
   "execution_count": null,
   "id": "b7214408",
   "metadata": {},
   "outputs": [],
   "source": [
    "9. In regular expressions, what does the character stand for?\n",
    "\n",
    "the character is not specified."
   ]
  },
  {
   "cell_type": "code",
   "execution_count": null,
   "id": "402e88c9",
   "metadata": {},
   "outputs": [],
   "source": [
    "10.In regular expressions, what is the difference between the + and * characters?\n",
    "\n",
    "Plus(+) symbol matches one or more occarrences of the regex preceding the + symbol.\n",
    "\n",
    "Star(*) symbol matches the zero or more occarrences of the regex preceding the * symbol."
   ]
  },
  {
   "cell_type": "code",
   "execution_count": null,
   "id": "4472f9e8",
   "metadata": {},
   "outputs": [],
   "source": [
    "11. What is the difference between {4} and {4,5} in regular expression?\n",
    "\n",
    "{m,n} - Braces match any repetitions preceding regex from m to n both inclusive.\n",
    "Here {4} means 4 times repetition, {4,5} means 4 to 5 times repetition "
   ]
  },
  {
   "cell_type": "code",
   "execution_count": null,
   "id": "945cd721",
   "metadata": {},
   "outputs": [],
   "source": [
    "12. What do you mean by the \\d, \\w, and \\s shorthand character classes signify in regular\n",
    "expressions? \n",
    "\n",
    "\\d - Returns a match where the string contains digits(numbers from 0-9) \n",
    "\\w - Returns a match where the string contains any word(a-z,A-Z,0-9,_)\n",
    "\\s - Returns a match where the string contains a white space character"
   ]
  },
  {
   "cell_type": "code",
   "execution_count": null,
   "id": "7c6867b2",
   "metadata": {},
   "outputs": [],
   "source": [
    "13. What do means by \\D, \\W, and \\S shorthand character classes signify in regular expressions?\n",
    "\n",
    "\\D - Returns a match where the string doesnot contains digits\n",
    "\\W - returns a match where the string doesnot contains any word characters\n",
    "\\S - Returns a match where the strins doesnot contains any white spaces"
   ]
  },
  {
   "cell_type": "code",
   "execution_count": null,
   "id": "b5a2d9df",
   "metadata": {},
   "outputs": [],
   "source": [
    "14. What is the difference between .*? and .*?\n",
    "\n",
    "(.*?) matches any character(.) any number of times(*), as few times as possible to make the regex match(?). You'll get a match on any string but you'll capture a blank string because of the question mark.\n",
    "(.*)? captures a group zero or one times(?). That group consists of a run of any length(*) of any character(.)"
   ]
  },
  {
   "cell_type": "code",
   "execution_count": null,
   "id": "bfd1485f",
   "metadata": {},
   "outputs": [],
   "source": [
    "15. What is the syntax for matching both numbers and lowercase letters with a character class?\n",
    "\n",
    "The character class[0-9a-z] will match all the lowercase letters and numbers."
   ]
  },
  {
   "cell_type": "code",
   "execution_count": null,
   "id": "1779a263",
   "metadata": {},
   "outputs": [],
   "source": [
    "16. What is the procedure for making a normal expression in regax case insensitive?\n",
    "\n",
    "Using flags parameter we can case insensitive the expression\n",
    "\n",
    "flags=IGNORECASE"
   ]
  },
  {
   "cell_type": "code",
   "execution_count": null,
   "id": "ad4bf9b2",
   "metadata": {},
   "outputs": [],
   "source": [
    "17. What does the . character normally match? What does it match if re.DOTALL is passed as 2nd\n",
    "argument in re.compile()?\n",
    "\n",
    "Normally . character matches any character excluding a new line. But by using the re.DOTALL flag we can extend the functionality. With the help of re.DOTALL the . character can match any character including a newline."
   ]
  },
  {
   "cell_type": "code",
   "execution_count": null,
   "id": "acb146f1",
   "metadata": {},
   "outputs": [],
   "source": [
    "18. If numReg = re.compile(r'\\d+'), what will numRegex.sub('X', '11 drummers, 10 pipers, five rings, 4 hen') return?\n",
    "\n",
    "[\"11\",\"10\",\"4\"]"
   ]
  },
  {
   "cell_type": "code",
   "execution_count": null,
   "id": "d95ea896",
   "metadata": {},
   "outputs": [],
   "source": [
    "19. What does passing re.VERBOSE as the 2nd argument to re.compile() allow to do?\n",
    "\n",
    "the re.VERBOSE flag allows the user to write regular expression that can look nicer and are more readable."
   ]
  },
  {
   "cell_type": "code",
   "execution_count": null,
   "id": "08cadbe8",
   "metadata": {},
   "outputs": [],
   "source": [
    "20. How would you write a regex that match a number with comma for every three digits? It must\n",
    "match the given following:\n",
    "'42'\n",
    "'1,234'\n",
    "'6,368,745'\n",
    "\n",
    "but not the following:\n",
    "'12,34,567' (which has only two digits between the commas)\n",
    "'1234' (which lacks commas)\n",
    "\n",
    "\n",
    "r'^\\d{1,3}(,\\d{3})*$''"
   ]
  },
  {
   "cell_type": "code",
   "execution_count": null,
   "id": "6afa9328",
   "metadata": {},
   "outputs": [],
   "source": [
    "21. How would you write a regex that matches the full name of someone whose last name is\n",
    "Watanabe? You can assume that the first name that comes before it will always be one word that\n",
    "begins with a capital letter. The regex must match the following:\n",
    "'Haruto Watanabe'\n",
    "'Alice Watanabe'\n",
    "'RoboCop Watanabe'\n",
    "but not the following:\n",
    "'haruto Watanabe' (where the first name is not capitalized)\n",
    "'Mr. Watanabe' (where the preceding word has a nonletter character)\n",
    "'Watanabe'(which has no first name)\n",
    "'Haruto watanabe' (where Watanabe is not capitalized)\n",
    "\n",
    "\n",
    "regex = '^[A-Z].*Watanabe$'"
   ]
  },
  {
   "cell_type": "code",
   "execution_count": null,
   "id": "356acb1a",
   "metadata": {},
   "outputs": [],
   "source": [
    "22. How would you write a regex that matches a sentence where the first word is either Alice, Bob,\n",
    "or Carol; the second word is either eats, pets, or throws; the third word is apples, cats, or baseballs;\n",
    "and the sentence ends with a period? This regex should be case-insensitive. It must match the\n",
    "following:\n",
    "'Alice eats apples.'\n",
    "'Bob pets cats.'\n",
    "'Carol throws baseballs.'\n",
    "'Alice throws Apples.'\n",
    "'BOB EATS CATS.'\n",
    "but not the following:\n",
    "'RoboCop eats apples.'\n",
    "'ALICE THROWS FOOTBALLS.'\n",
    "'Carol eats 7 cats.'\n",
    "\n",
    "\n",
    "regex = re.compile('(Alice|Bob|Carol)\\s+(eats|pets|throws)\\s+(Apples|Cats|baseballs)\\.', re.IGNORECASE)"
   ]
  }
 ],
 "metadata": {
  "kernelspec": {
   "display_name": "Python 3 (ipykernel)",
   "language": "python",
   "name": "python3"
  },
  "language_info": {
   "codemirror_mode": {
    "name": "ipython",
    "version": 3
   },
   "file_extension": ".py",
   "mimetype": "text/x-python",
   "name": "python",
   "nbconvert_exporter": "python",
   "pygments_lexer": "ipython3",
   "version": "3.9.12"
  }
 },
 "nbformat": 4,
 "nbformat_minor": 5
}
